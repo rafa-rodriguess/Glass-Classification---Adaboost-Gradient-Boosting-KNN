{
 "cells": [
  {
   "cell_type": "markdown",
   "id": "930c1d98-946d-49ef-8734-ca00a06e892a",
   "metadata": {},
   "source": [
    "# Glass Classification - Adaboost / Gradient Boosting / KNN"
   ]
  },
  {
   "cell_type": "markdown",
   "id": "cdd6f99f-b73a-4fe6-bc76-e741af1a1674",
   "metadata": {},
   "source": [
    "https://www.kaggle.com/datasets/uciml/glass"
   ]
  },
  {
   "cell_type": "markdown",
   "id": "63b8537e-df19-4da9-9f67-f22ba42834fc",
   "metadata": {},
   "source": [
    "### Import libraries"
   ]
  },
  {
   "cell_type": "code",
   "execution_count": 1,
   "id": "6ab20da0-cc01-49be-8cba-8ef4d29842ea",
   "metadata": {
    "execution": {
     "iopub.execute_input": "2022-11-03T17:23:02.669284Z",
     "iopub.status.busy": "2022-11-03T17:23:02.669284Z",
     "iopub.status.idle": "2022-11-03T17:23:10.401268Z",
     "shell.execute_reply": "2022-11-03T17:23:10.401268Z",
     "shell.execute_reply.started": "2022-11-03T17:23:02.669284Z"
    },
    "tags": []
   },
   "outputs": [],
   "source": [
    "import numpy as np\n",
    "import pandas as pd\n",
    "from pandas_profiling import ProfileReport\n",
    "from sklearn.model_selection import train_test_split\n",
    "from sklearn.ensemble import AdaBoostClassifier\n",
    "from sklearn.neighbors import KNeighborsClassifier\n",
    "from sklearn.model_selection import GridSearchCV\n",
    "from sklearn.metrics import *\n",
    "%matplotlib inline"
   ]
  },
  {
   "cell_type": "markdown",
   "id": "f5fcc005-5ade-467d-9c82-9e9f5ebc2689",
   "metadata": {},
   "source": [
    "### Import Database"
   ]
  },
  {
   "cell_type": "code",
   "execution_count": 2,
   "id": "43313e9b-b1ed-4427-98f6-5ca5226ab326",
   "metadata": {
    "execution": {
     "iopub.execute_input": "2022-11-03T17:23:10.401268Z",
     "iopub.status.busy": "2022-11-03T17:23:10.401268Z",
     "iopub.status.idle": "2022-11-03T17:23:10.448306Z",
     "shell.execute_reply": "2022-11-03T17:23:10.448306Z",
     "shell.execute_reply.started": "2022-11-03T17:23:10.401268Z"
    }
   },
   "outputs": [],
   "source": [
    "glass = pd.read_csv('glass.csv')"
   ]
  },
  {
   "cell_type": "code",
   "execution_count": 3,
   "id": "d624c69c-f67f-4465-bac2-a604b7c9a41d",
   "metadata": {
    "execution": {
     "iopub.execute_input": "2022-11-03T17:23:10.448306Z",
     "iopub.status.busy": "2022-11-03T17:23:10.448306Z",
     "iopub.status.idle": "2022-11-03T17:23:10.496688Z",
     "shell.execute_reply": "2022-11-03T17:23:10.495687Z",
     "shell.execute_reply.started": "2022-11-03T17:23:10.448306Z"
    }
   },
   "outputs": [
    {
     "data": {
      "text/html": [
       "<div>\n",
       "<style scoped>\n",
       "    .dataframe tbody tr th:only-of-type {\n",
       "        vertical-align: middle;\n",
       "    }\n",
       "\n",
       "    .dataframe tbody tr th {\n",
       "        vertical-align: top;\n",
       "    }\n",
       "\n",
       "    .dataframe thead th {\n",
       "        text-align: right;\n",
       "    }\n",
       "</style>\n",
       "<table border=\"1\" class=\"dataframe\">\n",
       "  <thead>\n",
       "    <tr style=\"text-align: right;\">\n",
       "      <th></th>\n",
       "      <th>RI</th>\n",
       "      <th>Na</th>\n",
       "      <th>Mg</th>\n",
       "      <th>Al</th>\n",
       "      <th>Si</th>\n",
       "      <th>K</th>\n",
       "      <th>Ca</th>\n",
       "      <th>Ba</th>\n",
       "      <th>Fe</th>\n",
       "      <th>Type</th>\n",
       "    </tr>\n",
       "  </thead>\n",
       "  <tbody>\n",
       "    <tr>\n",
       "      <th>0</th>\n",
       "      <td>1.52101</td>\n",
       "      <td>13.64</td>\n",
       "      <td>4.49</td>\n",
       "      <td>1.10</td>\n",
       "      <td>71.78</td>\n",
       "      <td>0.06</td>\n",
       "      <td>8.75</td>\n",
       "      <td>0.00</td>\n",
       "      <td>0.0</td>\n",
       "      <td>1</td>\n",
       "    </tr>\n",
       "    <tr>\n",
       "      <th>1</th>\n",
       "      <td>1.51761</td>\n",
       "      <td>13.89</td>\n",
       "      <td>3.60</td>\n",
       "      <td>1.36</td>\n",
       "      <td>72.73</td>\n",
       "      <td>0.48</td>\n",
       "      <td>7.83</td>\n",
       "      <td>0.00</td>\n",
       "      <td>0.0</td>\n",
       "      <td>1</td>\n",
       "    </tr>\n",
       "    <tr>\n",
       "      <th>2</th>\n",
       "      <td>1.51618</td>\n",
       "      <td>13.53</td>\n",
       "      <td>3.55</td>\n",
       "      <td>1.54</td>\n",
       "      <td>72.99</td>\n",
       "      <td>0.39</td>\n",
       "      <td>7.78</td>\n",
       "      <td>0.00</td>\n",
       "      <td>0.0</td>\n",
       "      <td>1</td>\n",
       "    </tr>\n",
       "    <tr>\n",
       "      <th>3</th>\n",
       "      <td>1.51766</td>\n",
       "      <td>13.21</td>\n",
       "      <td>3.69</td>\n",
       "      <td>1.29</td>\n",
       "      <td>72.61</td>\n",
       "      <td>0.57</td>\n",
       "      <td>8.22</td>\n",
       "      <td>0.00</td>\n",
       "      <td>0.0</td>\n",
       "      <td>1</td>\n",
       "    </tr>\n",
       "    <tr>\n",
       "      <th>4</th>\n",
       "      <td>1.51742</td>\n",
       "      <td>13.27</td>\n",
       "      <td>3.62</td>\n",
       "      <td>1.24</td>\n",
       "      <td>73.08</td>\n",
       "      <td>0.55</td>\n",
       "      <td>8.07</td>\n",
       "      <td>0.00</td>\n",
       "      <td>0.0</td>\n",
       "      <td>1</td>\n",
       "    </tr>\n",
       "    <tr>\n",
       "      <th>...</th>\n",
       "      <td>...</td>\n",
       "      <td>...</td>\n",
       "      <td>...</td>\n",
       "      <td>...</td>\n",
       "      <td>...</td>\n",
       "      <td>...</td>\n",
       "      <td>...</td>\n",
       "      <td>...</td>\n",
       "      <td>...</td>\n",
       "      <td>...</td>\n",
       "    </tr>\n",
       "    <tr>\n",
       "      <th>209</th>\n",
       "      <td>1.51623</td>\n",
       "      <td>14.14</td>\n",
       "      <td>0.00</td>\n",
       "      <td>2.88</td>\n",
       "      <td>72.61</td>\n",
       "      <td>0.08</td>\n",
       "      <td>9.18</td>\n",
       "      <td>1.06</td>\n",
       "      <td>0.0</td>\n",
       "      <td>7</td>\n",
       "    </tr>\n",
       "    <tr>\n",
       "      <th>210</th>\n",
       "      <td>1.51685</td>\n",
       "      <td>14.92</td>\n",
       "      <td>0.00</td>\n",
       "      <td>1.99</td>\n",
       "      <td>73.06</td>\n",
       "      <td>0.00</td>\n",
       "      <td>8.40</td>\n",
       "      <td>1.59</td>\n",
       "      <td>0.0</td>\n",
       "      <td>7</td>\n",
       "    </tr>\n",
       "    <tr>\n",
       "      <th>211</th>\n",
       "      <td>1.52065</td>\n",
       "      <td>14.36</td>\n",
       "      <td>0.00</td>\n",
       "      <td>2.02</td>\n",
       "      <td>73.42</td>\n",
       "      <td>0.00</td>\n",
       "      <td>8.44</td>\n",
       "      <td>1.64</td>\n",
       "      <td>0.0</td>\n",
       "      <td>7</td>\n",
       "    </tr>\n",
       "    <tr>\n",
       "      <th>212</th>\n",
       "      <td>1.51651</td>\n",
       "      <td>14.38</td>\n",
       "      <td>0.00</td>\n",
       "      <td>1.94</td>\n",
       "      <td>73.61</td>\n",
       "      <td>0.00</td>\n",
       "      <td>8.48</td>\n",
       "      <td>1.57</td>\n",
       "      <td>0.0</td>\n",
       "      <td>7</td>\n",
       "    </tr>\n",
       "    <tr>\n",
       "      <th>213</th>\n",
       "      <td>1.51711</td>\n",
       "      <td>14.23</td>\n",
       "      <td>0.00</td>\n",
       "      <td>2.08</td>\n",
       "      <td>73.36</td>\n",
       "      <td>0.00</td>\n",
       "      <td>8.62</td>\n",
       "      <td>1.67</td>\n",
       "      <td>0.0</td>\n",
       "      <td>7</td>\n",
       "    </tr>\n",
       "  </tbody>\n",
       "</table>\n",
       "<p>214 rows × 10 columns</p>\n",
       "</div>"
      ],
      "text/plain": [
       "          RI     Na    Mg    Al     Si     K    Ca    Ba   Fe  Type\n",
       "0    1.52101  13.64  4.49  1.10  71.78  0.06  8.75  0.00  0.0     1\n",
       "1    1.51761  13.89  3.60  1.36  72.73  0.48  7.83  0.00  0.0     1\n",
       "2    1.51618  13.53  3.55  1.54  72.99  0.39  7.78  0.00  0.0     1\n",
       "3    1.51766  13.21  3.69  1.29  72.61  0.57  8.22  0.00  0.0     1\n",
       "4    1.51742  13.27  3.62  1.24  73.08  0.55  8.07  0.00  0.0     1\n",
       "..       ...    ...   ...   ...    ...   ...   ...   ...  ...   ...\n",
       "209  1.51623  14.14  0.00  2.88  72.61  0.08  9.18  1.06  0.0     7\n",
       "210  1.51685  14.92  0.00  1.99  73.06  0.00  8.40  1.59  0.0     7\n",
       "211  1.52065  14.36  0.00  2.02  73.42  0.00  8.44  1.64  0.0     7\n",
       "212  1.51651  14.38  0.00  1.94  73.61  0.00  8.48  1.57  0.0     7\n",
       "213  1.51711  14.23  0.00  2.08  73.36  0.00  8.62  1.67  0.0     7\n",
       "\n",
       "[214 rows x 10 columns]"
      ]
     },
     "execution_count": 3,
     "metadata": {},
     "output_type": "execute_result"
    }
   ],
   "source": [
    "glass"
   ]
  },
  {
   "cell_type": "markdown",
   "id": "ad2576fa-663c-4b70-82ee-1c2e0b4789bb",
   "metadata": {},
   "source": [
    "### Exploratory Analysis"
   ]
  },
  {
   "cell_type": "code",
   "execution_count": null,
   "id": "d756c8db-c855-4b22-8d37-a6efbf99ba3f",
   "metadata": {
    "tags": []
   },
   "outputs": [],
   "source": [
    "profile = ProfileReport(glass, title = 'Glass Classification',correlations = None, interactions = None, html = {'style':{'full_width' : True}})\n",
    "profile.to_notebook_iframe()"
   ]
  },
  {
   "cell_type": "markdown",
   "id": "60bf69fc-706f-4c23-9c11-1a2915a51c0c",
   "metadata": {},
   "source": [
    "### Define Features and Target"
   ]
  },
  {
   "cell_type": "code",
   "execution_count": 5,
   "id": "3356052f-470d-4de2-8b53-32561ad3834a",
   "metadata": {
    "execution": {
     "iopub.execute_input": "2022-11-03T17:23:15.817362Z",
     "iopub.status.busy": "2022-11-03T17:23:15.817362Z",
     "iopub.status.idle": "2022-11-03T17:23:15.831356Z",
     "shell.execute_reply": "2022-11-03T17:23:15.830429Z",
     "shell.execute_reply.started": "2022-11-03T17:23:15.817362Z"
    },
    "tags": []
   },
   "outputs": [],
   "source": [
    "target = ['Type']\n",
    "features = [x for x in glass.columns if x not in target]"
   ]
  },
  {
   "cell_type": "markdown",
   "id": "f18f5e0a-36c2-4eb3-a33e-102322556770",
   "metadata": {},
   "source": [
    "### Split train/test"
   ]
  },
  {
   "cell_type": "code",
   "execution_count": 6,
   "id": "87c64dbb-813d-4d63-89e5-200443349453",
   "metadata": {
    "execution": {
     "iopub.execute_input": "2022-11-03T17:23:15.832359Z",
     "iopub.status.busy": "2022-11-03T17:23:15.831356Z",
     "iopub.status.idle": "2022-11-03T17:23:15.847428Z",
     "shell.execute_reply": "2022-11-03T17:23:15.846402Z",
     "shell.execute_reply.started": "2022-11-03T17:23:15.832359Z"
    },
    "tags": []
   },
   "outputs": [],
   "source": [
    "X_train, X_test, y_train, y_test = train_test_split(glass[features], glass[target], test_size=0.3, random_state=42)"
   ]
  },
  {
   "cell_type": "markdown",
   "id": "b6494158-b63d-48e5-95dd-1830311104d4",
   "metadata": {},
   "source": [
    "### Adaboost"
   ]
  },
  {
   "cell_type": "code",
   "execution_count": 7,
   "id": "25dfa463-ba2b-4f4b-8299-1f588ae4682c",
   "metadata": {
    "execution": {
     "iopub.execute_input": "2022-11-03T17:23:15.848400Z",
     "iopub.status.busy": "2022-11-03T17:23:15.848400Z",
     "iopub.status.idle": "2022-11-03T17:23:15.863430Z",
     "shell.execute_reply": "2022-11-03T17:23:15.862438Z",
     "shell.execute_reply.started": "2022-11-03T17:23:15.848400Z"
    },
    "tags": []
   },
   "outputs": [],
   "source": [
    "abc_model = AdaBoostClassifier(n_estimators=100, learning_rate=0.1)"
   ]
  },
  {
   "cell_type": "code",
   "execution_count": 8,
   "id": "f02c3d74-0f41-49a7-9f2f-de1b90789dde",
   "metadata": {
    "execution": {
     "iopub.execute_input": "2022-11-03T17:23:15.866445Z",
     "iopub.status.busy": "2022-11-03T17:23:15.865456Z",
     "iopub.status.idle": "2022-11-03T17:23:16.037543Z",
     "shell.execute_reply": "2022-11-03T17:23:16.036570Z",
     "shell.execute_reply.started": "2022-11-03T17:23:15.866445Z"
    },
    "tags": []
   },
   "outputs": [
    {
     "data": {
      "text/html": [
       "<style>#sk-container-id-1 {color: black;background-color: white;}#sk-container-id-1 pre{padding: 0;}#sk-container-id-1 div.sk-toggleable {background-color: white;}#sk-container-id-1 label.sk-toggleable__label {cursor: pointer;display: block;width: 100%;margin-bottom: 0;padding: 0.3em;box-sizing: border-box;text-align: center;}#sk-container-id-1 label.sk-toggleable__label-arrow:before {content: \"▸\";float: left;margin-right: 0.25em;color: #696969;}#sk-container-id-1 label.sk-toggleable__label-arrow:hover:before {color: black;}#sk-container-id-1 div.sk-estimator:hover label.sk-toggleable__label-arrow:before {color: black;}#sk-container-id-1 div.sk-toggleable__content {max-height: 0;max-width: 0;overflow: hidden;text-align: left;background-color: #f0f8ff;}#sk-container-id-1 div.sk-toggleable__content pre {margin: 0.2em;color: black;border-radius: 0.25em;background-color: #f0f8ff;}#sk-container-id-1 input.sk-toggleable__control:checked~div.sk-toggleable__content {max-height: 200px;max-width: 100%;overflow: auto;}#sk-container-id-1 input.sk-toggleable__control:checked~label.sk-toggleable__label-arrow:before {content: \"▾\";}#sk-container-id-1 div.sk-estimator input.sk-toggleable__control:checked~label.sk-toggleable__label {background-color: #d4ebff;}#sk-container-id-1 div.sk-label input.sk-toggleable__control:checked~label.sk-toggleable__label {background-color: #d4ebff;}#sk-container-id-1 input.sk-hidden--visually {border: 0;clip: rect(1px 1px 1px 1px);clip: rect(1px, 1px, 1px, 1px);height: 1px;margin: -1px;overflow: hidden;padding: 0;position: absolute;width: 1px;}#sk-container-id-1 div.sk-estimator {font-family: monospace;background-color: #f0f8ff;border: 1px dotted black;border-radius: 0.25em;box-sizing: border-box;margin-bottom: 0.5em;}#sk-container-id-1 div.sk-estimator:hover {background-color: #d4ebff;}#sk-container-id-1 div.sk-parallel-item::after {content: \"\";width: 100%;border-bottom: 1px solid gray;flex-grow: 1;}#sk-container-id-1 div.sk-label:hover label.sk-toggleable__label {background-color: #d4ebff;}#sk-container-id-1 div.sk-serial::before {content: \"\";position: absolute;border-left: 1px solid gray;box-sizing: border-box;top: 0;bottom: 0;left: 50%;z-index: 0;}#sk-container-id-1 div.sk-serial {display: flex;flex-direction: column;align-items: center;background-color: white;padding-right: 0.2em;padding-left: 0.2em;position: relative;}#sk-container-id-1 div.sk-item {position: relative;z-index: 1;}#sk-container-id-1 div.sk-parallel {display: flex;align-items: stretch;justify-content: center;background-color: white;position: relative;}#sk-container-id-1 div.sk-item::before, #sk-container-id-1 div.sk-parallel-item::before {content: \"\";position: absolute;border-left: 1px solid gray;box-sizing: border-box;top: 0;bottom: 0;left: 50%;z-index: -1;}#sk-container-id-1 div.sk-parallel-item {display: flex;flex-direction: column;z-index: 1;position: relative;background-color: white;}#sk-container-id-1 div.sk-parallel-item:first-child::after {align-self: flex-end;width: 50%;}#sk-container-id-1 div.sk-parallel-item:last-child::after {align-self: flex-start;width: 50%;}#sk-container-id-1 div.sk-parallel-item:only-child::after {width: 0;}#sk-container-id-1 div.sk-dashed-wrapped {border: 1px dashed gray;margin: 0 0.4em 0.5em 0.4em;box-sizing: border-box;padding-bottom: 0.4em;background-color: white;}#sk-container-id-1 div.sk-label label {font-family: monospace;font-weight: bold;display: inline-block;line-height: 1.2em;}#sk-container-id-1 div.sk-label-container {text-align: center;}#sk-container-id-1 div.sk-container {/* jupyter's `normalize.less` sets `[hidden] { display: none; }` but bootstrap.min.css set `[hidden] { display: none !important; }` so we also need the `!important` here to be able to override the default hidden behavior on the sphinx rendered scikit-learn.org. See: https://github.com/scikit-learn/scikit-learn/issues/21755 */display: inline-block !important;position: relative;}#sk-container-id-1 div.sk-text-repr-fallback {display: none;}</style><div id=\"sk-container-id-1\" class=\"sk-top-container\"><div class=\"sk-text-repr-fallback\"><pre>AdaBoostClassifier(learning_rate=0.1, n_estimators=100)</pre><b>In a Jupyter environment, please rerun this cell to show the HTML representation or trust the notebook. <br />On GitHub, the HTML representation is unable to render, please try loading this page with nbviewer.org.</b></div><div class=\"sk-container\" hidden><div class=\"sk-item\"><div class=\"sk-estimator sk-toggleable\"><input class=\"sk-toggleable__control sk-hidden--visually\" id=\"sk-estimator-id-1\" type=\"checkbox\" checked><label for=\"sk-estimator-id-1\" class=\"sk-toggleable__label sk-toggleable__label-arrow\">AdaBoostClassifier</label><div class=\"sk-toggleable__content\"><pre>AdaBoostClassifier(learning_rate=0.1, n_estimators=100)</pre></div></div></div></div></div>"
      ],
      "text/plain": [
       "AdaBoostClassifier(learning_rate=0.1, n_estimators=100)"
      ]
     },
     "execution_count": 8,
     "metadata": {},
     "output_type": "execute_result"
    }
   ],
   "source": [
    "abc_model.fit(X_train, y_train.values.ravel())"
   ]
  },
  {
   "cell_type": "code",
   "execution_count": 9,
   "id": "7b682e93-908b-4103-bec8-2c398ad0a0b5",
   "metadata": {
    "execution": {
     "iopub.execute_input": "2022-11-03T17:23:16.038547Z",
     "iopub.status.busy": "2022-11-03T17:23:16.038547Z",
     "iopub.status.idle": "2022-11-03T17:23:16.068578Z",
     "shell.execute_reply": "2022-11-03T17:23:16.068578Z",
     "shell.execute_reply.started": "2022-11-03T17:23:16.038547Z"
    },
    "tags": []
   },
   "outputs": [],
   "source": [
    "y_pred = abc_model.predict(X_test)"
   ]
  },
  {
   "cell_type": "code",
   "execution_count": 10,
   "id": "21cb4931-21b7-4c40-bc4c-db3f3e44e3be",
   "metadata": {
    "execution": {
     "iopub.execute_input": "2022-11-03T17:23:16.072956Z",
     "iopub.status.busy": "2022-11-03T17:23:16.071577Z",
     "iopub.status.idle": "2022-11-03T17:23:16.085487Z",
     "shell.execute_reply": "2022-11-03T17:23:16.084516Z",
     "shell.execute_reply.started": "2022-11-03T17:23:16.072956Z"
    },
    "tags": []
   },
   "outputs": [
    {
     "name": "stdout",
     "output_type": "stream",
     "text": [
      "Adaboost Model metrics\n",
      "accuracy_score:   0.7230769230769231\n",
      "              precision    recall  f1-score   support\n",
      "\n",
      "           1       0.92      0.58      0.71        19\n",
      "           2       0.58      0.96      0.72        23\n",
      "           3       1.00      0.00      0.00         4\n",
      "           5       1.00      0.33      0.50         6\n",
      "           6       0.75      1.00      0.86         3\n",
      "           7       1.00      0.90      0.95        10\n",
      "\n",
      "    accuracy                           0.72        65\n",
      "   macro avg       0.87      0.63      0.62        65\n",
      "weighted avg       0.82      0.72      0.69        65\n",
      "\n"
     ]
    }
   ],
   "source": [
    "print('Adaboost Model metrics')\n",
    "print('accuracy_score:  ', accuracy_score(y_pred=y_pred,y_true=y_test.values.ravel()))\n",
    "print(classification_report(y_test,y_pred,zero_division=True))"
   ]
  },
  {
   "cell_type": "markdown",
   "id": "caabb438-e0cb-4588-8454-490ad2097204",
   "metadata": {},
   "source": [
    "## Gradient Boosting"
   ]
  },
  {
   "cell_type": "code",
   "execution_count": 11,
   "id": "3684e051-2d21-48ab-a05b-ad12b254fa29",
   "metadata": {
    "execution": {
     "iopub.execute_input": "2022-11-03T17:23:16.086486Z",
     "iopub.status.busy": "2022-11-03T17:23:16.086486Z",
     "iopub.status.idle": "2022-11-03T17:23:16.101524Z",
     "shell.execute_reply": "2022-11-03T17:23:16.100547Z",
     "shell.execute_reply.started": "2022-11-03T17:23:16.086486Z"
    }
   },
   "outputs": [],
   "source": [
    "from sklearn.ensemble import GradientBoostingClassifier"
   ]
  },
  {
   "cell_type": "code",
   "execution_count": 12,
   "id": "a5d039a6-846e-4db2-8a38-dc21ced7b133",
   "metadata": {
    "execution": {
     "iopub.execute_input": "2022-11-03T17:23:16.102483Z",
     "iopub.status.busy": "2022-11-03T17:23:16.102483Z",
     "iopub.status.idle": "2022-11-03T17:23:16.687435Z",
     "shell.execute_reply": "2022-11-03T17:23:16.687435Z",
     "shell.execute_reply.started": "2022-11-03T17:23:16.102483Z"
    },
    "tags": []
   },
   "outputs": [
    {
     "data": {
      "text/html": [
       "<style>#sk-container-id-2 {color: black;background-color: white;}#sk-container-id-2 pre{padding: 0;}#sk-container-id-2 div.sk-toggleable {background-color: white;}#sk-container-id-2 label.sk-toggleable__label {cursor: pointer;display: block;width: 100%;margin-bottom: 0;padding: 0.3em;box-sizing: border-box;text-align: center;}#sk-container-id-2 label.sk-toggleable__label-arrow:before {content: \"▸\";float: left;margin-right: 0.25em;color: #696969;}#sk-container-id-2 label.sk-toggleable__label-arrow:hover:before {color: black;}#sk-container-id-2 div.sk-estimator:hover label.sk-toggleable__label-arrow:before {color: black;}#sk-container-id-2 div.sk-toggleable__content {max-height: 0;max-width: 0;overflow: hidden;text-align: left;background-color: #f0f8ff;}#sk-container-id-2 div.sk-toggleable__content pre {margin: 0.2em;color: black;border-radius: 0.25em;background-color: #f0f8ff;}#sk-container-id-2 input.sk-toggleable__control:checked~div.sk-toggleable__content {max-height: 200px;max-width: 100%;overflow: auto;}#sk-container-id-2 input.sk-toggleable__control:checked~label.sk-toggleable__label-arrow:before {content: \"▾\";}#sk-container-id-2 div.sk-estimator input.sk-toggleable__control:checked~label.sk-toggleable__label {background-color: #d4ebff;}#sk-container-id-2 div.sk-label input.sk-toggleable__control:checked~label.sk-toggleable__label {background-color: #d4ebff;}#sk-container-id-2 input.sk-hidden--visually {border: 0;clip: rect(1px 1px 1px 1px);clip: rect(1px, 1px, 1px, 1px);height: 1px;margin: -1px;overflow: hidden;padding: 0;position: absolute;width: 1px;}#sk-container-id-2 div.sk-estimator {font-family: monospace;background-color: #f0f8ff;border: 1px dotted black;border-radius: 0.25em;box-sizing: border-box;margin-bottom: 0.5em;}#sk-container-id-2 div.sk-estimator:hover {background-color: #d4ebff;}#sk-container-id-2 div.sk-parallel-item::after {content: \"\";width: 100%;border-bottom: 1px solid gray;flex-grow: 1;}#sk-container-id-2 div.sk-label:hover label.sk-toggleable__label {background-color: #d4ebff;}#sk-container-id-2 div.sk-serial::before {content: \"\";position: absolute;border-left: 1px solid gray;box-sizing: border-box;top: 0;bottom: 0;left: 50%;z-index: 0;}#sk-container-id-2 div.sk-serial {display: flex;flex-direction: column;align-items: center;background-color: white;padding-right: 0.2em;padding-left: 0.2em;position: relative;}#sk-container-id-2 div.sk-item {position: relative;z-index: 1;}#sk-container-id-2 div.sk-parallel {display: flex;align-items: stretch;justify-content: center;background-color: white;position: relative;}#sk-container-id-2 div.sk-item::before, #sk-container-id-2 div.sk-parallel-item::before {content: \"\";position: absolute;border-left: 1px solid gray;box-sizing: border-box;top: 0;bottom: 0;left: 50%;z-index: -1;}#sk-container-id-2 div.sk-parallel-item {display: flex;flex-direction: column;z-index: 1;position: relative;background-color: white;}#sk-container-id-2 div.sk-parallel-item:first-child::after {align-self: flex-end;width: 50%;}#sk-container-id-2 div.sk-parallel-item:last-child::after {align-self: flex-start;width: 50%;}#sk-container-id-2 div.sk-parallel-item:only-child::after {width: 0;}#sk-container-id-2 div.sk-dashed-wrapped {border: 1px dashed gray;margin: 0 0.4em 0.5em 0.4em;box-sizing: border-box;padding-bottom: 0.4em;background-color: white;}#sk-container-id-2 div.sk-label label {font-family: monospace;font-weight: bold;display: inline-block;line-height: 1.2em;}#sk-container-id-2 div.sk-label-container {text-align: center;}#sk-container-id-2 div.sk-container {/* jupyter's `normalize.less` sets `[hidden] { display: none; }` but bootstrap.min.css set `[hidden] { display: none !important; }` so we also need the `!important` here to be able to override the default hidden behavior on the sphinx rendered scikit-learn.org. See: https://github.com/scikit-learn/scikit-learn/issues/21755 */display: inline-block !important;position: relative;}#sk-container-id-2 div.sk-text-repr-fallback {display: none;}</style><div id=\"sk-container-id-2\" class=\"sk-top-container\"><div class=\"sk-text-repr-fallback\"><pre>GradientBoostingClassifier()</pre><b>In a Jupyter environment, please rerun this cell to show the HTML representation or trust the notebook. <br />On GitHub, the HTML representation is unable to render, please try loading this page with nbviewer.org.</b></div><div class=\"sk-container\" hidden><div class=\"sk-item\"><div class=\"sk-estimator sk-toggleable\"><input class=\"sk-toggleable__control sk-hidden--visually\" id=\"sk-estimator-id-2\" type=\"checkbox\" checked><label for=\"sk-estimator-id-2\" class=\"sk-toggleable__label sk-toggleable__label-arrow\">GradientBoostingClassifier</label><div class=\"sk-toggleable__content\"><pre>GradientBoostingClassifier()</pre></div></div></div></div></div>"
      ],
      "text/plain": [
       "GradientBoostingClassifier()"
      ]
     },
     "execution_count": 12,
     "metadata": {},
     "output_type": "execute_result"
    }
   ],
   "source": [
    "gbc_model = GradientBoostingClassifier(learning_rate=0.1)\n",
    "gbc_model.fit(X_train,y_train.values.ravel())"
   ]
  },
  {
   "cell_type": "code",
   "execution_count": 13,
   "id": "e5c0d1d1-6d03-4c7e-b809-305a87047e5f",
   "metadata": {
    "execution": {
     "iopub.execute_input": "2022-11-03T17:23:16.689407Z",
     "iopub.status.busy": "2022-11-03T17:23:16.689407Z",
     "iopub.status.idle": "2022-11-03T17:23:16.704401Z",
     "shell.execute_reply": "2022-11-03T17:23:16.703401Z",
     "shell.execute_reply.started": "2022-11-03T17:23:16.689407Z"
    }
   },
   "outputs": [],
   "source": [
    "y_pred2 = gbc_model.predict(X_test)"
   ]
  },
  {
   "cell_type": "code",
   "execution_count": 14,
   "id": "5156b407-21c0-4097-a732-a2c19b3c30f2",
   "metadata": {
    "execution": {
     "iopub.execute_input": "2022-11-03T17:23:16.705404Z",
     "iopub.status.busy": "2022-11-03T17:23:16.705404Z",
     "iopub.status.idle": "2022-11-03T17:23:16.719403Z",
     "shell.execute_reply": "2022-11-03T17:23:16.718439Z",
     "shell.execute_reply.started": "2022-11-03T17:23:16.705404Z"
    },
    "tags": []
   },
   "outputs": [
    {
     "name": "stdout",
     "output_type": "stream",
     "text": [
      "Gradient Boosting Model metrics\n",
      "accuracy_score:   0.7846153846153846\n",
      "              precision    recall  f1-score   support\n",
      "\n",
      "           1       0.69      0.95      0.80        19\n",
      "           2       0.76      0.70      0.73        23\n",
      "           3       1.00      0.50      0.67         4\n",
      "           5       1.00      0.50      0.67         6\n",
      "           6       0.67      0.67      0.67         3\n",
      "           7       1.00      1.00      1.00        10\n",
      "\n",
      "    accuracy                           0.78        65\n",
      "   macro avg       0.85      0.72      0.75        65\n",
      "weighted avg       0.81      0.78      0.78        65\n",
      "\n"
     ]
    }
   ],
   "source": [
    "print('Gradient Boosting Model metrics')\n",
    "print('accuracy_score:  ', accuracy_score(y_pred=y_pred2,y_true=y_test.values.ravel()))\n",
    "print(classification_report(y_test,y_pred2))"
   ]
  },
  {
   "cell_type": "markdown",
   "id": "20439d24-d791-4415-84e8-5629dab4ad7b",
   "metadata": {},
   "source": [
    "## Gradient boosting with Grid Search"
   ]
  },
  {
   "cell_type": "markdown",
   "id": "04175f49-9861-4b3b-8e4d-3c9d988005ab",
   "metadata": {},
   "source": [
    "### First Round Grid Search"
   ]
  },
  {
   "cell_type": "code",
   "execution_count": 15,
   "id": "2fd77399-0b6d-401d-8303-eff97ce35cfb",
   "metadata": {
    "execution": {
     "iopub.execute_input": "2022-11-03T17:23:16.720405Z",
     "iopub.status.busy": "2022-11-03T17:23:16.720405Z",
     "iopub.status.idle": "2022-11-03T17:23:16.735402Z",
     "shell.execute_reply": "2022-11-03T17:23:16.734401Z",
     "shell.execute_reply.started": "2022-11-03T17:23:16.720405Z"
    },
    "tags": []
   },
   "outputs": [],
   "source": [
    "gs_param = {'n_estimators':list(range(20,400,50)),\n",
    "            'learning_rate': [0.1,0.5,0.8,1],\n",
    "            'max_depth':list(range(5,17,2))          \n",
    "            }\n",
    "#gsearch1 = GridSearchCV(GradientBoostingClassifier(random_state=42), param_grid = gs_param, scoring='accuracy',n_jobs=1,cv=3, verbose=3)\n",
    "#gsearch1.fit(X_train, y_train.values.ravel())\n",
    "#gsearch1.best_params_"
   ]
  },
  {
   "cell_type": "markdown",
   "id": "226d2faa-6978-4283-b0e1-aa495c2c291b",
   "metadata": {
    "execution": {
     "iopub.execute_input": "2022-11-02T14:05:51.961620Z",
     "iopub.status.busy": "2022-11-02T14:05:51.960606Z",
     "iopub.status.idle": "2022-11-02T14:05:51.971780Z",
     "shell.execute_reply": "2022-11-02T14:05:51.970776Z",
     "shell.execute_reply.started": "2022-11-02T14:05:51.961620Z"
    }
   },
   "source": [
    "### Second Round Grid Search"
   ]
  },
  {
   "cell_type": "code",
   "execution_count": 16,
   "id": "1e5c99b2-49f3-4a45-a963-a0d0f2061308",
   "metadata": {
    "execution": {
     "iopub.execute_input": "2022-11-03T17:23:16.736404Z",
     "iopub.status.busy": "2022-11-03T17:23:16.736404Z",
     "iopub.status.idle": "2022-11-03T17:23:16.750778Z",
     "shell.execute_reply": "2022-11-03T17:23:16.749814Z",
     "shell.execute_reply.started": "2022-11-03T17:23:16.736404Z"
    }
   },
   "outputs": [],
   "source": [
    "#First round results -> {'learning_rate': 0.5, 'max_depth': 5, 'n_estimators': 70}\n",
    "gs_param = {'n_estimators':list(range(20,120,10)),\n",
    "            'learning_rate': [0.2,0.3,0.4,0.5,0.6,0.7,0.8],\n",
    "            'max_depth':list(range(1,7,1))           \n",
    "            }\n",
    "#gsearch1 = GridSearchCV(GradientBoostingClassifier(random_state=42), param_grid = gs_param, scoring='accuracy',n_jobs=1,cv=3, verbose=3)\n",
    "#gsearch1.fit(X_train, y_train.values.ravel())\n",
    "#gsearch1.best_params_"
   ]
  },
  {
   "cell_type": "code",
   "execution_count": 17,
   "id": "db939549-e7ba-451c-a926-3471523f96f8",
   "metadata": {
    "execution": {
     "iopub.execute_input": "2022-11-03T17:23:16.751777Z",
     "iopub.status.busy": "2022-11-03T17:23:16.751777Z",
     "iopub.status.idle": "2022-11-03T17:23:16.766785Z",
     "shell.execute_reply": "2022-11-03T17:23:16.765787Z",
     "shell.execute_reply.started": "2022-11-03T17:23:16.751777Z"
    },
    "tags": []
   },
   "outputs": [],
   "source": [
    "##Second round results -> {'learning_rate': 0.6, 'max_depth': 3, 'n_estimators': 50}\n",
    "gbc_model = GradientBoostingClassifier(random_state=42, **{'learning_rate': 0.6, 'max_depth': 3, 'n_estimators': 50})"
   ]
  },
  {
   "cell_type": "code",
   "execution_count": 18,
   "id": "8f7a475f-9844-4c2a-98a0-2ded9858c8ac",
   "metadata": {
    "execution": {
     "iopub.execute_input": "2022-11-03T17:23:16.767785Z",
     "iopub.status.busy": "2022-11-03T17:23:16.767785Z",
     "iopub.status.idle": "2022-11-03T17:23:17.081304Z",
     "shell.execute_reply": "2022-11-03T17:23:17.080175Z",
     "shell.execute_reply.started": "2022-11-03T17:23:16.767785Z"
    },
    "tags": []
   },
   "outputs": [
    {
     "data": {
      "text/html": [
       "<style>#sk-container-id-3 {color: black;background-color: white;}#sk-container-id-3 pre{padding: 0;}#sk-container-id-3 div.sk-toggleable {background-color: white;}#sk-container-id-3 label.sk-toggleable__label {cursor: pointer;display: block;width: 100%;margin-bottom: 0;padding: 0.3em;box-sizing: border-box;text-align: center;}#sk-container-id-3 label.sk-toggleable__label-arrow:before {content: \"▸\";float: left;margin-right: 0.25em;color: #696969;}#sk-container-id-3 label.sk-toggleable__label-arrow:hover:before {color: black;}#sk-container-id-3 div.sk-estimator:hover label.sk-toggleable__label-arrow:before {color: black;}#sk-container-id-3 div.sk-toggleable__content {max-height: 0;max-width: 0;overflow: hidden;text-align: left;background-color: #f0f8ff;}#sk-container-id-3 div.sk-toggleable__content pre {margin: 0.2em;color: black;border-radius: 0.25em;background-color: #f0f8ff;}#sk-container-id-3 input.sk-toggleable__control:checked~div.sk-toggleable__content {max-height: 200px;max-width: 100%;overflow: auto;}#sk-container-id-3 input.sk-toggleable__control:checked~label.sk-toggleable__label-arrow:before {content: \"▾\";}#sk-container-id-3 div.sk-estimator input.sk-toggleable__control:checked~label.sk-toggleable__label {background-color: #d4ebff;}#sk-container-id-3 div.sk-label input.sk-toggleable__control:checked~label.sk-toggleable__label {background-color: #d4ebff;}#sk-container-id-3 input.sk-hidden--visually {border: 0;clip: rect(1px 1px 1px 1px);clip: rect(1px, 1px, 1px, 1px);height: 1px;margin: -1px;overflow: hidden;padding: 0;position: absolute;width: 1px;}#sk-container-id-3 div.sk-estimator {font-family: monospace;background-color: #f0f8ff;border: 1px dotted black;border-radius: 0.25em;box-sizing: border-box;margin-bottom: 0.5em;}#sk-container-id-3 div.sk-estimator:hover {background-color: #d4ebff;}#sk-container-id-3 div.sk-parallel-item::after {content: \"\";width: 100%;border-bottom: 1px solid gray;flex-grow: 1;}#sk-container-id-3 div.sk-label:hover label.sk-toggleable__label {background-color: #d4ebff;}#sk-container-id-3 div.sk-serial::before {content: \"\";position: absolute;border-left: 1px solid gray;box-sizing: border-box;top: 0;bottom: 0;left: 50%;z-index: 0;}#sk-container-id-3 div.sk-serial {display: flex;flex-direction: column;align-items: center;background-color: white;padding-right: 0.2em;padding-left: 0.2em;position: relative;}#sk-container-id-3 div.sk-item {position: relative;z-index: 1;}#sk-container-id-3 div.sk-parallel {display: flex;align-items: stretch;justify-content: center;background-color: white;position: relative;}#sk-container-id-3 div.sk-item::before, #sk-container-id-3 div.sk-parallel-item::before {content: \"\";position: absolute;border-left: 1px solid gray;box-sizing: border-box;top: 0;bottom: 0;left: 50%;z-index: -1;}#sk-container-id-3 div.sk-parallel-item {display: flex;flex-direction: column;z-index: 1;position: relative;background-color: white;}#sk-container-id-3 div.sk-parallel-item:first-child::after {align-self: flex-end;width: 50%;}#sk-container-id-3 div.sk-parallel-item:last-child::after {align-self: flex-start;width: 50%;}#sk-container-id-3 div.sk-parallel-item:only-child::after {width: 0;}#sk-container-id-3 div.sk-dashed-wrapped {border: 1px dashed gray;margin: 0 0.4em 0.5em 0.4em;box-sizing: border-box;padding-bottom: 0.4em;background-color: white;}#sk-container-id-3 div.sk-label label {font-family: monospace;font-weight: bold;display: inline-block;line-height: 1.2em;}#sk-container-id-3 div.sk-label-container {text-align: center;}#sk-container-id-3 div.sk-container {/* jupyter's `normalize.less` sets `[hidden] { display: none; }` but bootstrap.min.css set `[hidden] { display: none !important; }` so we also need the `!important` here to be able to override the default hidden behavior on the sphinx rendered scikit-learn.org. See: https://github.com/scikit-learn/scikit-learn/issues/21755 */display: inline-block !important;position: relative;}#sk-container-id-3 div.sk-text-repr-fallback {display: none;}</style><div id=\"sk-container-id-3\" class=\"sk-top-container\"><div class=\"sk-text-repr-fallback\"><pre>GradientBoostingClassifier(learning_rate=0.6, n_estimators=50, random_state=42)</pre><b>In a Jupyter environment, please rerun this cell to show the HTML representation or trust the notebook. <br />On GitHub, the HTML representation is unable to render, please try loading this page with nbviewer.org.</b></div><div class=\"sk-container\" hidden><div class=\"sk-item\"><div class=\"sk-estimator sk-toggleable\"><input class=\"sk-toggleable__control sk-hidden--visually\" id=\"sk-estimator-id-3\" type=\"checkbox\" checked><label for=\"sk-estimator-id-3\" class=\"sk-toggleable__label sk-toggleable__label-arrow\">GradientBoostingClassifier</label><div class=\"sk-toggleable__content\"><pre>GradientBoostingClassifier(learning_rate=0.6, n_estimators=50, random_state=42)</pre></div></div></div></div></div>"
      ],
      "text/plain": [
       "GradientBoostingClassifier(learning_rate=0.6, n_estimators=50, random_state=42)"
      ]
     },
     "execution_count": 18,
     "metadata": {},
     "output_type": "execute_result"
    }
   ],
   "source": [
    "gbc_model.fit(X_train, y_train.values.ravel())"
   ]
  },
  {
   "cell_type": "code",
   "execution_count": 19,
   "id": "1a4f4010-f48b-443c-b43c-040348223ae9",
   "metadata": {
    "execution": {
     "iopub.execute_input": "2022-11-03T17:23:17.082299Z",
     "iopub.status.busy": "2022-11-03T17:23:17.082299Z",
     "iopub.status.idle": "2022-11-03T17:23:17.112735Z",
     "shell.execute_reply": "2022-11-03T17:23:17.111706Z",
     "shell.execute_reply.started": "2022-11-03T17:23:17.082299Z"
    },
    "tags": []
   },
   "outputs": [
    {
     "name": "stdout",
     "output_type": "stream",
     "text": [
      "Gradient Boosting Model metrics with Grid Search\n",
      "accuracy_score:   0.8153846153846154\n",
      "              precision    recall  f1-score   support\n",
      "\n",
      "           1       0.72      0.95      0.82        19\n",
      "           2       0.81      0.74      0.77        23\n",
      "           3       1.00      0.50      0.67         4\n",
      "           5       1.00      0.50      0.67         6\n",
      "           6       0.75      1.00      0.86         3\n",
      "           7       1.00      1.00      1.00        10\n",
      "\n",
      "    accuracy                           0.82        65\n",
      "   macro avg       0.88      0.78      0.80        65\n",
      "weighted avg       0.84      0.82      0.81        65\n",
      "\n"
     ]
    }
   ],
   "source": [
    "y_pred3 = gbc_model.predict(X_test)\n",
    "print('Gradient Boosting Model metrics with Grid Search')\n",
    "print('accuracy_score:  ', accuracy_score(y_pred=y_pred3,y_true=y_test.values.ravel()))\n",
    "print(classification_report(y_test,y_pred3))"
   ]
  },
  {
   "cell_type": "markdown",
   "id": "5ea5045a-205e-48e1-b2cd-e54c4ef54ef2",
   "metadata": {},
   "source": [
    "## KNN"
   ]
  },
  {
   "cell_type": "markdown",
   "id": "8a2dbf04-3d0d-4f16-b080-2b981f87c22b",
   "metadata": {},
   "source": [
    "### Set the initial k value using the Elbone test"
   ]
  },
  {
   "cell_type": "code",
   "execution_count": 20,
   "id": "16cd38ac-358b-4a8b-ac21-af482e493f6d",
   "metadata": {
    "execution": {
     "iopub.execute_input": "2022-11-03T17:23:46.289311Z",
     "iopub.status.busy": "2022-11-03T17:23:46.289311Z",
     "iopub.status.idle": "2022-11-03T17:23:46.442544Z",
     "shell.execute_reply": "2022-11-03T17:23:46.441549Z",
     "shell.execute_reply.started": "2022-11-03T17:23:46.289311Z"
    },
    "tags": []
   },
   "outputs": [],
   "source": [
    "import math \n",
    "import matplotlib.pyplot as plt\n",
    "j = int(math.sqrt(len(glass)))*2\n",
    "error_rate = []\n",
    "\n",
    "for i in range(1,j):\n",
    "    knn = KNeighborsClassifier(n_neighbors=i)\n",
    "    knn.fit(X_train,y_train.values.ravel())\n",
    "    pred_i = knn.predict(X_test)\n",
    "    error_rate.append(np.mean(pred_i != y_test.values.ravel()))\n",
    "\n"
   ]
  },
  {
   "cell_type": "code",
   "execution_count": 21,
   "id": "e05f6c81-a5ca-4645-8136-b5fefa4cd36d",
   "metadata": {
    "execution": {
     "iopub.execute_input": "2022-11-03T17:23:47.811139Z",
     "iopub.status.busy": "2022-11-03T17:23:47.811139Z",
     "iopub.status.idle": "2022-11-03T17:23:48.143071Z",
     "shell.execute_reply": "2022-11-03T17:23:48.141962Z",
     "shell.execute_reply.started": "2022-11-03T17:23:47.811139Z"
    },
    "tags": []
   },
   "outputs": [
    {
     "data": {
      "text/plain": [
       "Text(0, 0.5, 'Error Rate')"
      ]
     },
     "execution_count": 21,
     "metadata": {},
     "output_type": "execute_result"
    },
    {
     "data": {
      "image/png": "[encoded data removed]",
      "text/plain": [
       "<Figure size 1000x600 with 1 Axes>"
      ]
     },
     "metadata": {},
     "output_type": "display_data"
    }
   ],
   "source": [
    "plt.figure(figsize=(10,6))\n",
    "plt.plot(range(1,j),error_rate,color='blue', linestyle='dashed', marker='o', markerfacecolor='red', markersize=10)\n",
    "plt.xticks(range(1,j))\n",
    "plt.title('Error Rate vs. K Value')\n",
    "plt.xlabel('K')\n",
    "plt.ylabel('Error Rate')"
   ]
  },
  {
   "cell_type": "code",
   "execution_count": 23,
   "id": "58404a63-4b41-414d-86ff-107a0574e82e",
   "metadata": {
    "execution": {
     "iopub.execute_input": "2022-11-03T17:24:34.821671Z",
     "iopub.status.busy": "2022-11-03T17:24:34.821671Z",
     "iopub.status.idle": "2022-11-03T17:24:34.837671Z",
     "shell.execute_reply": "2022-11-03T17:24:34.836670Z",
     "shell.execute_reply.started": "2022-11-03T17:24:34.821671Z"
    },
    "tags": []
   },
   "outputs": [
    {
     "data": {
      "text/html": [
       "<style>#sk-container-id-4 {color: black;background-color: white;}#sk-container-id-4 pre{padding: 0;}#sk-container-id-4 div.sk-toggleable {background-color: white;}#sk-container-id-4 label.sk-toggleable__label {cursor: pointer;display: block;width: 100%;margin-bottom: 0;padding: 0.3em;box-sizing: border-box;text-align: center;}#sk-container-id-4 label.sk-toggleable__label-arrow:before {content: \"▸\";float: left;margin-right: 0.25em;color: #696969;}#sk-container-id-4 label.sk-toggleable__label-arrow:hover:before {color: black;}#sk-container-id-4 div.sk-estimator:hover label.sk-toggleable__label-arrow:before {color: black;}#sk-container-id-4 div.sk-toggleable__content {max-height: 0;max-width: 0;overflow: hidden;text-align: left;background-color: #f0f8ff;}#sk-container-id-4 div.sk-toggleable__content pre {margin: 0.2em;color: black;border-radius: 0.25em;background-color: #f0f8ff;}#sk-container-id-4 input.sk-toggleable__control:checked~div.sk-toggleable__content {max-height: 200px;max-width: 100%;overflow: auto;}#sk-container-id-4 input.sk-toggleable__control:checked~label.sk-toggleable__label-arrow:before {content: \"▾\";}#sk-container-id-4 div.sk-estimator input.sk-toggleable__control:checked~label.sk-toggleable__label {background-color: #d4ebff;}#sk-container-id-4 div.sk-label input.sk-toggleable__control:checked~label.sk-toggleable__label {background-color: #d4ebff;}#sk-container-id-4 input.sk-hidden--visually {border: 0;clip: rect(1px 1px 1px 1px);clip: rect(1px, 1px, 1px, 1px);height: 1px;margin: -1px;overflow: hidden;padding: 0;position: absolute;width: 1px;}#sk-container-id-4 div.sk-estimator {font-family: monospace;background-color: #f0f8ff;border: 1px dotted black;border-radius: 0.25em;box-sizing: border-box;margin-bottom: 0.5em;}#sk-container-id-4 div.sk-estimator:hover {background-color: #d4ebff;}#sk-container-id-4 div.sk-parallel-item::after {content: \"\";width: 100%;border-bottom: 1px solid gray;flex-grow: 1;}#sk-container-id-4 div.sk-label:hover label.sk-toggleable__label {background-color: #d4ebff;}#sk-container-id-4 div.sk-serial::before {content: \"\";position: absolute;border-left: 1px solid gray;box-sizing: border-box;top: 0;bottom: 0;left: 50%;z-index: 0;}#sk-container-id-4 div.sk-serial {display: flex;flex-direction: column;align-items: center;background-color: white;padding-right: 0.2em;padding-left: 0.2em;position: relative;}#sk-container-id-4 div.sk-item {position: relative;z-index: 1;}#sk-container-id-4 div.sk-parallel {display: flex;align-items: stretch;justify-content: center;background-color: white;position: relative;}#sk-container-id-4 div.sk-item::before, #sk-container-id-4 div.sk-parallel-item::before {content: \"\";position: absolute;border-left: 1px solid gray;box-sizing: border-box;top: 0;bottom: 0;left: 50%;z-index: -1;}#sk-container-id-4 div.sk-parallel-item {display: flex;flex-direction: column;z-index: 1;position: relative;background-color: white;}#sk-container-id-4 div.sk-parallel-item:first-child::after {align-self: flex-end;width: 50%;}#sk-container-id-4 div.sk-parallel-item:last-child::after {align-self: flex-start;width: 50%;}#sk-container-id-4 div.sk-parallel-item:only-child::after {width: 0;}#sk-container-id-4 div.sk-dashed-wrapped {border: 1px dashed gray;margin: 0 0.4em 0.5em 0.4em;box-sizing: border-box;padding-bottom: 0.4em;background-color: white;}#sk-container-id-4 div.sk-label label {font-family: monospace;font-weight: bold;display: inline-block;line-height: 1.2em;}#sk-container-id-4 div.sk-label-container {text-align: center;}#sk-container-id-4 div.sk-container {/* jupyter's `normalize.less` sets `[hidden] { display: none; }` but bootstrap.min.css set `[hidden] { display: none !important; }` so we also need the `!important` here to be able to override the default hidden behavior on the sphinx rendered scikit-learn.org. See: https://github.com/scikit-learn/scikit-learn/issues/21755 */display: inline-block !important;position: relative;}#sk-container-id-4 div.sk-text-repr-fallback {display: none;}</style><div id=\"sk-container-id-4\" class=\"sk-top-container\"><div class=\"sk-text-repr-fallback\"><pre>KNeighborsClassifier(n_neighbors=1)</pre><b>In a Jupyter environment, please rerun this cell to show the HTML representation or trust the notebook. <br />On GitHub, the HTML representation is unable to render, please try loading this page with nbviewer.org.</b></div><div class=\"sk-container\" hidden><div class=\"sk-item\"><div class=\"sk-estimator sk-toggleable\"><input class=\"sk-toggleable__control sk-hidden--visually\" id=\"sk-estimator-id-4\" type=\"checkbox\" checked><label for=\"sk-estimator-id-4\" class=\"sk-toggleable__label sk-toggleable__label-arrow\">KNeighborsClassifier</label><div class=\"sk-toggleable__content\"><pre>KNeighborsClassifier(n_neighbors=1)</pre></div></div></div></div></div>"
      ],
      "text/plain": [
       "KNeighborsClassifier(n_neighbors=1)"
      ]
     },
     "execution_count": 23,
     "metadata": {},
     "output_type": "execute_result"
    }
   ],
   "source": [
    "knn_model = KNeighborsClassifier(n_neighbors=1)\n",
    "knn_model.fit(X_train[['Na', 'Mg', 'Al', 'Si', 'K', 'Ca']], y_train.values.ravel())"
   ]
  },
  {
   "cell_type": "code",
   "execution_count": 26,
   "id": "4ec73eb4-5190-4636-a500-458c7532c65e",
   "metadata": {
    "execution": {
     "iopub.execute_input": "2022-11-03T17:25:00.415870Z",
     "iopub.status.busy": "2022-11-03T17:25:00.414877Z",
     "iopub.status.idle": "2022-11-03T17:25:00.443398Z",
     "shell.execute_reply": "2022-11-03T17:25:00.442396Z",
     "shell.execute_reply.started": "2022-11-03T17:25:00.415870Z"
    },
    "tags": []
   },
   "outputs": [],
   "source": [
    "y_pred4 = knn_model.predict(X_test[['Na', 'Mg', 'Al', 'Si', 'K', 'Ca']])"
   ]
  },
  {
   "cell_type": "code",
   "execution_count": 28,
   "id": "d262f973-e8b7-4543-bbae-0244d09bba7c",
   "metadata": {
    "execution": {
     "iopub.execute_input": "2022-11-03T17:25:12.483222Z",
     "iopub.status.busy": "2022-11-03T17:25:12.483222Z",
     "iopub.status.idle": "2022-11-03T17:25:12.511741Z",
     "shell.execute_reply": "2022-11-03T17:25:12.510212Z",
     "shell.execute_reply.started": "2022-11-03T17:25:12.483222Z"
    },
    "tags": []
   },
   "outputs": [
    {
     "name": "stdout",
     "output_type": "stream",
     "text": [
      "KNN Model metrics\n",
      "accuracy_score:   0.7692307692307693\n",
      "              precision    recall  f1-score   support\n",
      "\n",
      "           1       0.79      0.79      0.79        19\n",
      "           2       0.84      0.70      0.76        23\n",
      "           3       0.60      0.75      0.67         4\n",
      "           5       0.83      0.83      0.83         6\n",
      "           6       0.33      0.67      0.44         3\n",
      "           7       0.90      0.90      0.90        10\n",
      "\n",
      "    accuracy                           0.77        65\n",
      "   macro avg       0.72      0.77      0.73        65\n",
      "weighted avg       0.80      0.77      0.78        65\n",
      "\n"
     ]
    }
   ],
   "source": [
    "print('KNN Model metrics')\n",
    "print('accuracy_score:  ', accuracy_score(y_pred=y_pred4,y_true=y_test.values.ravel()))\n",
    "print(classification_report(y_test,y_pred4))"
   ]
  },
  {
   "cell_type": "code",
   "execution_count": null,
   "id": "127e5686-2522-4554-8bb6-72e3ec441174",
   "metadata": {},
   "outputs": [],
   "source": []
  }
 ],
 "metadata": {
  "kernelspec": {
   "display_name": "Python 3 (ipykernel)",
   "language": "python",
   "name": "python3"
  },
  "language_info": {
   "codemirror_mode": {
    "name": "ipython",
    "version": 3
   },
   "file_extension": ".py",
   "mimetype": "text/x-python",
   "name": "python",
   "nbconvert_exporter": "python",
   "pygments_lexer": "ipython3",
   "version": "3.9.13"
  },
  "widgets": {
   "application/vnd.jupyter.widget-state+json": {
    "state": {
     "05f2e02f3c8649969ceac4d09cdf66e5": {
      "model_module": "@jupyter-widgets/base",
      "model_module_version": "1.2.0",
      "model_name": "LayoutModel",
      "state": {}
     },
     "07b5f96ebec44507bcf3876092111b6f": {
      "model_module": "@jupyter-widgets/controls",
      "model_module_version": "1.5.0",
      "model_name": "DescriptionStyleModel",
      "state": {
       "description_width": ""
      }
     },
     "09c55d6c79c14646b3c94abc379e305d": {
      "model_module": "@jupyter-widgets/base",
      "model_module_version": "1.2.0",
      "model_name": "LayoutModel",
      "state": {}
     },
     "0c058effbaee4d06ab9be4340d51d4d2": {
      "model_module": "@jupyter-widgets/controls",
      "model_module_version": "1.5.0",
      "model_name": "HTMLModel",
      "state": {
       "layout": "IPY_MODEL_7db687e56c2d4637b638ae641146df91",
       "style": "IPY_MODEL_ef06734c361f44e8a5aa8cefd22c4b92",
       "value": " 18/18 [00:00&lt;00:00, 15.52it/s, Completed]"
      }
     },
     "11bb8b35ce6f45fbb9f5cb1b914d57e3": {
      "model_module": "@jupyter-widgets/base",
      "model_module_version": "1.2.0",
      "model_name": "LayoutModel",
      "state": {}
     },
     "18f0313ec3b0490a82a09332ea260f6d": {
      "model_module": "@jupyter-widgets/controls",
      "model_module_version": "1.5.0",
      "model_name": "HBoxModel",
      "state": {
       "children": [
        "IPY_MODEL_87244dc782e344cca69e9ab245ca671b",
        "IPY_MODEL_50d261b3508a481eb54e3aa76708f24e",
        "IPY_MODEL_aaf3c2c7561546aab4f504f554dc6977"
       ],
       "layout": "IPY_MODEL_05f2e02f3c8649969ceac4d09cdf66e5"
      }
     },
     "32682cd362b448529b4c6ee7dd9b11d0": {
      "model_module": "@jupyter-widgets/base",
      "model_module_version": "1.2.0",
      "model_name": "LayoutModel",
      "state": {}
     },
     "33904d0c654e42e0afd3a2d5ab355a22": {
      "model_module": "@jupyter-widgets/controls",
      "model_module_version": "1.5.0",
      "model_name": "FloatProgressModel",
      "state": {
       "bar_style": "success",
       "layout": "IPY_MODEL_9685c5630f2b4b2a88caab646b93b36a",
       "max": 5,
       "style": "IPY_MODEL_d4a111ac155b47f596163f406e04a5be",
       "value": 5
      }
     },
     "41115d9a12c74366bf0d6bd6d7a196e0": {
      "model_module": "@jupyter-widgets/base",
      "model_module_version": "1.2.0",
      "model_name": "LayoutModel",
      "state": {}
     },
     "4c37294edb144bb9a8691677445f4a4a": {
      "model_module": "@jupyter-widgets/controls",
      "model_module_version": "1.5.0",
      "model_name": "FloatProgressModel",
      "state": {
       "bar_style": "success",
       "layout": "IPY_MODEL_09c55d6c79c14646b3c94abc379e305d",
       "max": 1,
       "style": "IPY_MODEL_8422e0c661b24cf4a62bad0f0f85e79a",
       "value": 1
      }
     },
     "50d261b3508a481eb54e3aa76708f24e": {
      "model_module": "@jupyter-widgets/controls",
      "model_module_version": "1.5.0",
      "model_name": "FloatProgressModel",
      "state": {
       "bar_style": "success",
       "layout": "IPY_MODEL_41115d9a12c74366bf0d6bd6d7a196e0",
       "max": 1,
       "style": "IPY_MODEL_6c325711d5f94020ad2eed3ccc16349d",
       "value": 1
      }
     },
     "528c1a0d9e43470595dd71154615854d": {
      "model_module": "@jupyter-widgets/base",
      "model_module_version": "1.2.0",
      "model_name": "LayoutModel",
      "state": {}
     },
     "6c325711d5f94020ad2eed3ccc16349d": {
      "model_module": "@jupyter-widgets/controls",
      "model_module_version": "1.5.0",
      "model_name": "ProgressStyleModel",
      "state": {
       "description_width": ""
      }
     },
     "78e1b82f5b0548e88391991066439898": {
      "model_module": "@jupyter-widgets/controls",
      "model_module_version": "1.5.0",
      "model_name": "DescriptionStyleModel",
      "state": {
       "description_width": ""
      }
     },
     "7db687e56c2d4637b638ae641146df91": {
      "model_module": "@jupyter-widgets/base",
      "model_module_version": "1.2.0",
      "model_name": "LayoutModel",
      "state": {}
     },
     "7e22c4742c56409989d4a734969c3456": {
      "model_module": "@jupyter-widgets/base",
      "model_module_version": "1.2.0",
      "model_name": "LayoutModel",
      "state": {}
     },
     "8053bdd3c6b243e999b29e6ced4eef35": {
      "model_module": "@jupyter-widgets/controls",
      "model_module_version": "1.5.0",
      "model_name": "HBoxModel",
      "state": {
       "children": [
        "IPY_MODEL_9c2391a4eb6c4687a51b397d561abd0a",
        "IPY_MODEL_33904d0c654e42e0afd3a2d5ab355a22",
        "IPY_MODEL_0c058effbaee4d06ab9be4340d51d4d2"
       ],
       "layout": "IPY_MODEL_fece03eca11248cf8323f7e1b355acbb"
      }
     },
     "80868b657d234dd891d30c15bed7ed4b": {
      "model_module": "@jupyter-widgets/controls",
      "model_module_version": "1.5.0",
      "model_name": "DescriptionStyleModel",
      "state": {
       "description_width": ""
      }
     },
     "8422e0c661b24cf4a62bad0f0f85e79a": {
      "model_module": "@jupyter-widgets/controls",
      "model_module_version": "1.5.0",
      "model_name": "ProgressStyleModel",
      "state": {
       "description_width": ""
      }
     },
     "857e1ea0471f4ad1a9ba9f3bbe4d55eb": {
      "model_module": "@jupyter-widgets/controls",
      "model_module_version": "1.5.0",
      "model_name": "HTMLModel",
      "state": {
       "layout": "IPY_MODEL_e824e976c2df449e800c19b0601b50d5",
       "style": "IPY_MODEL_901bf95bd16e463883ee66bb0dba0386",
       "value": "Generate report structure: 100%"
      }
     },
     "87244dc782e344cca69e9ab245ca671b": {
      "model_module": "@jupyter-widgets/controls",
      "model_module_version": "1.5.0",
      "model_name": "HTMLModel",
      "state": {
       "layout": "IPY_MODEL_7e22c4742c56409989d4a734969c3456",
       "style": "IPY_MODEL_78e1b82f5b0548e88391991066439898",
       "value": "Render HTML: 100%"
      }
     },
     "87b79e70c0bb477e9c03f60aea8fc806": {
      "model_module": "@jupyter-widgets/controls",
      "model_module_version": "1.5.0",
      "model_name": "HTMLModel",
      "state": {
       "layout": "IPY_MODEL_11bb8b35ce6f45fbb9f5cb1b914d57e3",
       "style": "IPY_MODEL_07b5f96ebec44507bcf3876092111b6f",
       "value": " 1/1 [00:03&lt;00:00,  3.49s/it]"
      }
     },
     "901bf95bd16e463883ee66bb0dba0386": {
      "model_module": "@jupyter-widgets/controls",
      "model_module_version": "1.5.0",
      "model_name": "DescriptionStyleModel",
      "state": {
       "description_width": ""
      }
     },
     "9685c5630f2b4b2a88caab646b93b36a": {
      "model_module": "@jupyter-widgets/base",
      "model_module_version": "1.2.0",
      "model_name": "LayoutModel",
      "state": {}
     },
     "99c0e3c9f2f2487bb933dd614683e7f6": {
      "model_module": "@jupyter-widgets/base",
      "model_module_version": "1.2.0",
      "model_name": "LayoutModel",
      "state": {}
     },
     "9c2391a4eb6c4687a51b397d561abd0a": {
      "model_module": "@jupyter-widgets/controls",
      "model_module_version": "1.5.0",
      "model_name": "HTMLModel",
      "state": {
       "layout": "IPY_MODEL_99c0e3c9f2f2487bb933dd614683e7f6",
       "style": "IPY_MODEL_ac0c32da6f084419b5f64d2226070038",
       "value": "Summarize dataset: 100%"
      }
     },
     "aaf3c2c7561546aab4f504f554dc6977": {
      "model_module": "@jupyter-widgets/controls",
      "model_module_version": "1.5.0",
      "model_name": "HTMLModel",
      "state": {
       "layout": "IPY_MODEL_32682cd362b448529b4c6ee7dd9b11d0",
       "style": "IPY_MODEL_80868b657d234dd891d30c15bed7ed4b",
       "value": " 1/1 [00:00&lt;00:00,  1.29it/s]"
      }
     },
     "ac0c32da6f084419b5f64d2226070038": {
      "model_module": "@jupyter-widgets/controls",
      "model_module_version": "1.5.0",
      "model_name": "DescriptionStyleModel",
      "state": {
       "description_width": ""
      }
     },
     "bde9c7ad0d7345f884fd93d743494855": {
      "model_module": "@jupyter-widgets/controls",
      "model_module_version": "1.5.0",
      "model_name": "HBoxModel",
      "state": {
       "children": [
        "IPY_MODEL_857e1ea0471f4ad1a9ba9f3bbe4d55eb",
        "IPY_MODEL_4c37294edb144bb9a8691677445f4a4a",
        "IPY_MODEL_87b79e70c0bb477e9c03f60aea8fc806"
       ],
       "layout": "IPY_MODEL_528c1a0d9e43470595dd71154615854d"
      }
     },
     "d4a111ac155b47f596163f406e04a5be": {
      "model_module": "@jupyter-widgets/controls",
      "model_module_version": "1.5.0",
      "model_name": "ProgressStyleModel",
      "state": {
       "description_width": ""
      }
     },
     "e824e976c2df449e800c19b0601b50d5": {
      "model_module": "@jupyter-widgets/base",
      "model_module_version": "1.2.0",
      "model_name": "LayoutModel",
      "state": {}
     },
     "ef06734c361f44e8a5aa8cefd22c4b92": {
      "model_module": "@jupyter-widgets/controls",
      "model_module_version": "1.5.0",
      "model_name": "DescriptionStyleModel",
      "state": {
       "description_width": ""
      }
     },
     "fece03eca11248cf8323f7e1b355acbb": {
      "model_module": "@jupyter-widgets/base",
      "model_module_version": "1.2.0",
      "model_name": "LayoutModel",
      "state": {}
     }
    },
    "version_major": 2,
    "version_minor": 0
   }
  }
 },
 "nbformat": 4,
 "nbformat_minor": 5
}
